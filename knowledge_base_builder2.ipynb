{
 "cells": [
  {
   "cell_type": "code",
   "execution_count": null,
   "metadata": {},
   "outputs": [],
   "source": [
    "import requests\n",
    "from xml.etree import ElementTree\n",
    "from preprocess_documents2 import create_vector_db"
   ]
  },
  {
   "cell_type": "code",
   "execution_count": null,
   "metadata": {},
   "outputs": [],
   "source": [
    "def get_pydantic_ai_docs_urls():\n",
    "    \"\"\"\n",
    "    Fetches all URLs from the Pydantic AI documentation.\n",
    "    Uses the sitemap (https://ai.pydantic.dev/sitemap.xml) to get these URLs.\n",
    "    \n",
    "    Returns:\n",
    "        List[str]: List of URLs\n",
    "    \"\"\"            \n",
    "    sitemap_url = \"https://muscleandstrength.com/sitemap.xml?page=1\"\n",
    "    headers = {\n",
    "        \"User-Agent\": \"Mozilla/5.0 (Windows NT 10.0; Win64; x64) AppleWebKit/537.36 (KHTML, like Gecko) Chrome/91.0.4472.124 Safari/537.36\",\n",
    "        \"Accept\": \"text/html,application/xhtml+xml,application/xml;q=0.9,image/webp,*/*;q=0.8\",\n",
    "        \"Accept-Language\": \"en-US,en;q=0.5\",\n",
    "        \"Connection\": \"keep-alive\",\n",
    "        \"Upgrade-Insecure-Requests\": \"1\",\n",
    "    }\n",
    "    try:\n",
    "        response = requests.get(sitemap_url, headers=headers)\n",
    "        response.raise_for_status()\n",
    "        \n",
    "        # Parse the XML\n",
    "        root = ElementTree.fromstring(response.content)\n",
    "        \n",
    "        # Extract all URLs from the sitemap\n",
    "        # The namespace is usually defined in the root element\n",
    "        namespace = {'ns': 'http://www.sitemaps.org/schemas/sitemap/0.9'}\n",
    "        urls = [loc.text for loc in root.findall('.//ns:loc', namespace)]\n",
    "        \n",
    "        return urls\n",
    "    except Exception as e:\n",
    "        print(f\"Error fetching sitemap: {e}\")\n",
    "        return []        "
   ]
  },
  {
   "cell_type": "code",
   "execution_count": null,
   "metadata": {},
   "outputs": [],
   "source": [
    "urls = get_pydantic_ai_docs_urls()\n",
    "print(f\"Found {len(urls)} URLs\")\n"
   ]
  },
  {
   "cell_type": "code",
   "execution_count": null,
   "metadata": {},
   "outputs": [],
   "source": [
    "for url in urls[0:12]:\n",
    "    print(url)"
   ]
  },
  {
   "cell_type": "code",
   "execution_count": null,
   "metadata": {},
   "outputs": [],
   "source": [
    "urls"
   ]
  },
  {
   "cell_type": "code",
   "execution_count": null,
   "metadata": {},
   "outputs": [],
   "source": [
    "def load_urls_from_file(file_path):\n",
    "    \"\"\"\n",
    "    Loads URLs from a given text file.\n",
    "    \n",
    "    Args:\n",
    "        file_path (str): The path to the text file containing URLs.\n",
    "        \n",
    "    Returns:\n",
    "        List[str]: A list of URLs.\n",
    "    \"\"\"\n",
    "    try:\n",
    "        with open(file_path, 'r') as file:\n",
    "            recipes = file.read().splitlines()\n",
    "        return recipes\n",
    "    except Exception as e:\n",
    "        print(f\"Error loading URLs from file: {e}\")\n",
    "        return []\n",
    "\n",
    "# Example usage\n"
   ]
  },
  {
   "cell_type": "code",
   "execution_count": null,
   "metadata": {},
   "outputs": [],
   "source": [
    "file_path = 'RAG_Data_Collection/recipe_urls.txt'  # Replace with the path to your text file\n",
    "recipe_urls = load_urls_from_file(file_path)\n",
    "print(f\"Loaded {len(recipe_urls)} URLs from file\")\n"
   ]
  },
  {
   "cell_type": "code",
   "execution_count": null,
   "metadata": {},
   "outputs": [],
   "source": [
    "urls_list = urls + recipe_urls\n",
    "print(f\"Total URLs: {len(urls_list)}\")"
   ]
  },
  {
   "cell_type": "code",
   "execution_count": null,
   "metadata": {},
   "outputs": [],
   "source": [
    "create_vector_db(urls_list)"
   ]
  }
 ],
 "metadata": {
  "kernelspec": {
   "display_name": "Python 3",
   "language": "python",
   "name": "python3"
  },
  "language_info": {
   "codemirror_mode": {
    "name": "ipython",
    "version": 3
   },
   "file_extension": ".py",
   "mimetype": "text/x-python",
   "name": "python",
   "nbconvert_exporter": "python",
   "pygments_lexer": "ipython3",
   "version": "3.9.6"
  }
 },
 "nbformat": 4,
 "nbformat_minor": 2
}
